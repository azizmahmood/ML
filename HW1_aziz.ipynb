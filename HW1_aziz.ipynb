{
 "cells": [
  {
   "cell_type": "markdown",
   "metadata": {},
   "source": [
    "# Problem 1: Python & Data Exploration (20 points)"
   ]
  },
  {
   "cell_type": "code",
   "execution_count": 51,
   "metadata": {
    "collapsed": true
   },
   "outputs": [],
   "source": [
    "%matplotlib inline"
   ]
  },
  {
   "cell_type": "code",
   "execution_count": 52,
   "metadata": {
    "collapsed": false
   },
   "outputs": [],
   "source": [
    "import numpy as np\n",
    "import matplotlib.pyplot as plt\n",
    "\n",
    "iris = np.genfromtxt(\"data/iris.txt\",delimiter=None) # load the text file\n",
    "Y = iris[:,-1] # target value (iris species) is the last column\n",
    "X = iris[:,0:-1] # features are the other columns"
   ]
  },
  {
   "cell_type": "markdown",
   "metadata": {},
   "source": [
    "### 1.1"
   ]
  },
  {
   "cell_type": "code",
   "execution_count": 53,
   "metadata": {
    "collapsed": false
   },
   "outputs": [
    {
     "data": {
      "text/plain": [
       "(148, 4)"
      ]
     },
     "execution_count": 53,
     "metadata": {},
     "output_type": "execute_result"
    }
   ],
   "source": [
    "X.shape"
   ]
  },
  {
   "cell_type": "markdown",
   "metadata": {},
   "source": [
    "Features=4, data points = 148"
   ]
  },
  {
   "cell_type": "markdown",
   "metadata": {},
   "source": [
    "### 1.2"
   ]
  },
  {
   "cell_type": "code",
   "execution_count": 54,
   "metadata": {
    "collapsed": false
   },
   "outputs": [
    {
     "data": {
      "text/plain": [
       "(array([  9.,  20.,  16.,  27.,  16.,  25.,  17.,  10.,   2.,   6.]),\n",
       " array([ 4.3265579 ,  4.68918546,  5.05181302,  5.41444058,  5.77706814,\n",
       "         6.1396957 ,  6.50232326,  6.86495082,  7.22757838,  7.59020594,\n",
       "         7.9528335 ]),\n",
       " <a list of 10 Patch objects>)"
      ]
     },
     "execution_count": 54,
     "metadata": {},
     "output_type": "execute_result"
    },
    {
     "data": {
      "image/png": "[encoded data removed]",
      "text/plain": [
       "<matplotlib.figure.Figure at 0x19cc5d52390>"
      ]
     },
     "metadata": {},
     "output_type": "display_data"
    }
   ],
   "source": [
    "plt.hist(X[:, 0]) #Feature 1 Histogram"
   ]
  },
  {
   "cell_type": "code",
   "execution_count": 55,
   "metadata": {
    "collapsed": false
   },
   "outputs": [
    {
     "data": {
      "text/plain": [
       "(array([  1.,  10.,  17.,  28.,  43.,  23.,  12.,   9.,   3.,   2.]),\n",
       " array([ 2.0020454 ,  2.24764816,  2.49325092,  2.73885368,  2.98445644,\n",
       "         3.2300592 ,  3.47566196,  3.72126472,  3.96686748,  4.21247024,\n",
       "         4.458073  ]),\n",
       " <a list of 10 Patch objects>)"
      ]
     },
     "execution_count": 55,
     "metadata": {},
     "output_type": "execute_result"
    },
    {
     "data": {
      "image/png": "[encoded data removed]",
      "text/plain": [
       "<matplotlib.figure.Figure at 0x19cc4b748d0>"
      ]
     },
     "metadata": {},
     "output_type": "display_data"
    }
   ],
   "source": [
    "plt.hist(X[:, 1]) #Feature 2 Histogram"
   ]
  },
  {
   "cell_type": "code",
   "execution_count": 56,
   "metadata": {
    "collapsed": false
   },
   "outputs": [
    {
     "data": {
      "text/plain": [
       "(array([ 36.,  13.,   0.,   3.,   7.,  25.,  26.,  21.,  11.,   6.]),\n",
       " array([ 1.0238316 ,  1.61492121,  2.20601082,  2.79710043,  3.38819004,\n",
       "         3.97927965,  4.57036926,  5.16145887,  5.75254848,  6.34363809,\n",
       "         6.9347277 ]),\n",
       " <a list of 10 Patch objects>)"
      ]
     },
     "execution_count": 56,
     "metadata": {},
     "output_type": "execute_result"
    },
    {
     "data": {
      "image/png": "[encoded data removed]",
      "text/plain": [
       "<matplotlib.figure.Figure at 0x19cc5e6d048>"
      ]
     },
     "metadata": {},
     "output_type": "display_data"
    }
   ],
   "source": [
    "plt.hist(X[:, 2]) #Feature 3 Histogram"
   ]
  },
  {
   "cell_type": "code",
   "execution_count": 57,
   "metadata": {
    "collapsed": false
   },
   "outputs": [
    {
     "data": {
      "text/plain": [
       "(array([ 40.,   8.,   1.,   7.,  17.,  23.,   9.,  20.,  14.,   9.]),\n",
       " array([ 0.12509037,  0.37029368,  0.615497  ,  0.86070031,  1.10590362,\n",
       "         1.35110693,  1.59631025,  1.84151356,  2.08671687,  2.33192019,\n",
       "         2.5771235 ]),\n",
       " <a list of 10 Patch objects>)"
      ]
     },
     "execution_count": 57,
     "metadata": {},
     "output_type": "execute_result"
    },
    {
     "data": {
      "image/png": "[encoded data removed]",
      "text/plain": [
       "<matplotlib.figure.Figure at 0x19cc5f17128>"
      ]
     },
     "metadata": {},
     "output_type": "display_data"
    }
   ],
   "source": [
    "plt.hist(X[:, 3]) #Feature 4 Histogram"
   ]
  },
  {
   "cell_type": "markdown",
   "metadata": {},
   "source": [
    "### 1.3"
   ]
  },
  {
   "cell_type": "code",
   "execution_count": 58,
   "metadata": {
    "collapsed": false
   },
   "outputs": [
    {
     "data": {
      "text/plain": [
       "array([ 5.90010376,  3.09893092,  3.81955484,  1.25255548])"
      ]
     },
     "execution_count": 58,
     "metadata": {},
     "output_type": "execute_result"
    }
   ],
   "source": [
    "np.mean(X, axis=0) #Mean"
   ]
  },
  {
   "cell_type": "code",
   "execution_count": 59,
   "metadata": {
    "collapsed": false
   },
   "outputs": [
    {
     "data": {
      "text/plain": [
       "array([ 0.83340207,  0.43629184,  1.75405711,  0.75877246])"
      ]
     },
     "execution_count": 59,
     "metadata": {},
     "output_type": "execute_result"
    }
   ],
   "source": [
    "np.std(X, axis=0) #Standard Deviation"
   ]
  },
  {
   "cell_type": "markdown",
   "metadata": {},
   "source": [
    "### 1.4"
   ]
  },
  {
   "cell_type": "code",
   "execution_count": 60,
   "metadata": {
    "collapsed": false
   },
   "outputs": [
    {
     "data": {
      "image/png": "[encoded data removed]",
      "text/plain": [
       "<matplotlib.figure.Figure at 0x19cc5ef50b8>"
      ]
     },
     "metadata": {},
     "output_type": "display_data"
    }
   ],
   "source": [
    "#Features (1,2)\n",
    "colors = ['b','g','r']\n",
    "for c in np.unique(Y):\n",
    "    plt.plot(X[:, 0][Y==c], X[:, 1][Y==c], 'o', color=colors[int(c)])"
   ]
  },
  {
   "cell_type": "code",
   "execution_count": 61,
   "metadata": {
    "collapsed": false
   },
   "outputs": [
    {
     "data": {
      "image/png": "[encoded data removed]",
      "text/plain": [
       "<matplotlib.figure.Figure at 0x19cc3e6ef98>"
      ]
     },
     "metadata": {},
     "output_type": "display_data"
    }
   ],
   "source": [
    "#Features (1,3)\n",
    "colors = ['b','g','r']\n",
    "for c in np.unique(Y):\n",
    "    plt.plot(X[:, 0][Y==c], X[:, 2][Y==c], 'o', color=colors[int(c)])"
   ]
  },
  {
   "cell_type": "code",
   "execution_count": 62,
   "metadata": {
    "collapsed": false
   },
   "outputs": [
    {
     "data": {
      "image/png": "[encoded data removed]",
      "text/plain": [
       "<matplotlib.figure.Figure at 0x19cc4b8a4e0>"
      ]
     },
     "metadata": {},
     "output_type": "display_data"
    }
   ],
   "source": [
    "#Features (1,4)\n",
    "colors = ['b','g','r']\n",
    "for c in np.unique(Y):\n",
    "    plt.plot(X[:, 0][Y==c], X[:, 3][Y==c], 'o', color=colors[int(c)])"
   ]
  },
  {
   "cell_type": "markdown",
   "metadata": {},
   "source": [
    "# Problem 2: k-nearest-neighbor predictions"
   ]
  },
  {
   "cell_type": "code",
   "execution_count": 63,
   "metadata": {
    "collapsed": false
   },
   "outputs": [],
   "source": [
    "iris = np.genfromtxt(\"data/iris.txt\",delimiter=None) # load the data\n",
    "Y = iris[:, -1]\n",
    "X = iris[:,0:2]\n",
    "\n",
    "import mltools as ml\n",
    "np.random.seed(0)\n",
    "X,Y = ml.shuffleData(X,Y);\n",
    "\n",
    "Xtr,Xva,Ytr,Yva = ml.splitData(X,Y, 0.75);\n",
    "knn = ml.knn.knnClassify()"
   ]
  },
  {
   "cell_type": "markdown",
   "metadata": {},
   "source": [
    "### 2.1"
   ]
  },
  {
   "cell_type": "code",
   "execution_count": 69,
   "metadata": {
    "collapsed": false
   },
   "outputs": [
    {
     "data": {
      "image/png": "[encoded data removed]",
      "text/plain": [
       "<matplotlib.figure.Figure at 0x19cc626c358>"
      ]
     },
     "metadata": {},
     "output_type": "display_data"
    }
   ],
   "source": [
    "knn.train(Xtr, Ytr, 1) #K=1\n",
    "YvHat = knn.predict(Xva)\n",
    "ml.plotClassify2D(knn, Xtr, Ytr)"
   ]
  },
  {
   "cell_type": "code",
   "execution_count": 71,
   "metadata": {
    "collapsed": false
   },
   "outputs": [
    {
     "data": {
      "image/png": "[encoded data removed]",
      "text/plain": [
       "<matplotlib.figure.Figure at 0x19cc4c5b160>"
      ]
     },
     "metadata": {},
     "output_type": "display_data"
    }
   ],
   "source": [
    "knn.train(Xtr, Ytr, 5) #K=5\n",
    "YvHat = knn.predict(Xva)\n",
    "ml.plotClassify2D(knn, Xtr, Ytr)"
   ]
  },
  {
   "cell_type": "code",
   "execution_count": 72,
   "metadata": {
    "collapsed": false
   },
   "outputs": [
    {
     "data": {
      "image/png": "[encoded data removed]",
      "text/plain": [
       "<matplotlib.figure.Figure at 0x19cc4b48940>"
      ]
     },
     "metadata": {},
     "output_type": "display_data"
    }
   ],
   "source": [
    "knn.train(Xtr, Ytr, 10) #K=10\n",
    "YvHat = knn.predict(Xva)\n",
    "ml.plotClassify2D(knn, Xtr, Ytr)"
   ]
  },
  {
   "cell_type": "code",
   "execution_count": 73,
   "metadata": {
    "collapsed": false
   },
   "outputs": [
    {
     "data": {
      "image/png": "[encoded data removed]",
      "text/plain": [
       "<matplotlib.figure.Figure at 0x19cc5fa03c8>"
      ]
     },
     "metadata": {},
     "output_type": "display_data"
    }
   ],
   "source": [
    "knn.train(Xtr, Ytr, 50) #K=50\n",
    "YvHat = knn.predict(Xva)\n",
    "ml.plotClassify2D(knn, Xtr, Ytr)"
   ]
  },
  {
   "cell_type": "markdown",
   "metadata": {},
   "source": [
    "### 2.2"
   ]
  },
  {
   "cell_type": "code",
   "execution_count": 99,
   "metadata": {
    "collapsed": false
   },
   "outputs": [
    {
     "name": "stdout",
     "output_type": "stream",
     "text": [
      "72\n"
     ]
    }
   ],
   "source": [
    "K=[1,2,5,10,50,100,200];\n",
    "errTrain = [None]*len(K)\n",
    "for i,k in enumerate(K):\n",
    "    learner = ml.knn.knnClassify(Xtr, Ytr, k)\n",
    "    Yhat_tr = learner.predict(Xtr)\n",
    "    count = 0\n",
    "    for a,b in zip(Yhat_tr, Ytr):\n",
    "        if a!=b:\n",
    "            count += 1;\n",
    "    errTrain[i] = float(count)/len(Ytr)\n",
    "print(count)"
   ]
  },
  {
   "cell_type": "code",
   "execution_count": 91,
   "metadata": {
    "collapsed": false
   },
   "outputs": [
    {
     "name": "stdout",
     "output_type": "stream",
     "text": [
      "do\n",
      "do\n",
      "do\n",
      "who\n"
     ]
    }
   ],
   "source": [
    "a = (\"John\", \"Charles\", \"Jenny\",\"Monica\")\n",
    "b = (\"John\", \"Charles\", \"Jenny\",\"asd\")\n",
    "\n",
    "x = zip(a, b)\n",
    "\n",
    "for a,b in x:\n",
    "    if a!=b:\n",
    "        print(\"who\")\n",
    "    else:\n",
    "        print(\"do\")"
   ]
  },
  {
   "cell_type": "code",
   "execution_count": null,
   "metadata": {
    "collapsed": true
   },
   "outputs": [],
   "source": []
  },
  {
   "cell_type": "code",
   "execution_count": null,
   "metadata": {
    "collapsed": true
   },
   "outputs": [],
   "source": []
  }
 ],
 "metadata": {
  "kernelspec": {
   "display_name": "Python 3",
   "language": "python",
   "name": "python3"
  },
  "language_info": {
   "codemirror_mode": {
    "name": "ipython",
    "version": 3
   },
   "file_extension": ".py",
   "mimetype": "text/x-python",
   "name": "python",
   "nbconvert_exporter": "python",
   "pygments_lexer": "ipython3",
   "version": "3.6.0"
  }
 },
 "nbformat": 4,
 "nbformat_minor": 2
}
